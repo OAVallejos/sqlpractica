{
 "cells": [
  {
   "cell_type": "code",
   "execution_count": 1,
   "metadata": {},
   "outputs": [
    {
     "name": "stdout",
     "output_type": "stream",
     "text": [
      "Requirement already satisfied: pymysql in c:\\users\\juana\\appdata\\local\\packages\\pythonsoftwarefoundation.python.3.11_qbz5n2kfra8p0\\localcache\\local-packages\\python311\\site-packages (1.1.0)\n"
     ]
    },
    {
     "name": "stderr",
     "output_type": "stream",
     "text": [
      "\n",
      "[notice] A new release of pip is available: 23.2 -> 24.0\n",
      "[notice] To update, run: C:\\Users\\juana\\AppData\\Local\\Microsoft\\WindowsApps\\PythonSoftwareFoundation.Python.3.11_qbz5n2kfra8p0\\python.exe -m pip install --upgrade pip\n"
     ]
    }
   ],
   "source": [
    "!pip install pymysql"
   ]
  },
  {
   "cell_type": "code",
   "execution_count": 2,
   "metadata": {},
   "outputs": [],
   "source": [
    "import pymysql"
   ]
  },
  {
   "cell_type": "code",
   "execution_count": 13,
   "metadata": {},
   "outputs": [],
   "source": [
    "\n",
    "\n",
    "# Establecer la conexión\n",
    "conn = pymysql.connect(\n",
    "    host=\"localhost\", # o la dirección IP de tu servidor MySQL\n",
    "    port=3306, # puerto por defecto de MySQL\n",
    "    user=\"root\", # tu usuario de MySQL\n",
    "    passwd=\"DGDAdfsdff##44@\", # tu contraseña de MySQL\n",
    "    db=\"p2\", # el nombre de tu base de datos\n",
    "    charset=\"utf8\" # codificación para evitar problemas con caracteres especiales\n",
    ")\n",
    "\n",
    "# Crear un cursor\n",
    "cursor = conn.cursor()\n",
    "#cursor = conexion.cursor(dictionary=True) esto da error \n",
    "\n"
   ]
  },
  {
   "cell_type": "code",
   "execution_count": 16,
   "metadata": {},
   "outputs": [
    {
     "name": "stdout",
     "output_type": "stream",
     "text": [
      "('Bikes', 94651172.70469621, 90268, 86.17, 32.83)\n",
      "('Components', 11802593.286429755, 49044, 10.74, 17.84)\n",
      "('Clothing', 2120542.524800972, 73670, 1.93, 26.8)\n",
      "('Accessories', 1272072.8839257574, 61932, 1.16, 22.53)\n"
     ]
    }
   ],
   "source": [
    "# Ejecutar una consulta SQL para obtener los nombres de las columnas\n",
    "sql_query = \"\"\"\n",
    "SELECT Categoria, ValorTotalVentas, ProductosVendidos, PorcentajeValorTotal, PorcentajeProductosVendidos\n",
    "FROM p2hwm3;\n",
    "\"\"\"\n",
    "\n",
    "# Ejecutar la consulta\n",
    "cursor.execute(sql_query)\n",
    "\n",
    "# Obtener los resultados\n",
    "resultados = cursor.fetchall()\n",
    "\n",
    "# Imprimir los resultados\n",
    "for fila in resultados:\n",
    "    print(fila)\n",
    "\n",
    "# Cerrar el cursor y la conexión\n",
    "cursor.close()\n",
    "conn.close()\n"
   ]
  },
  {
   "cell_type": "markdown",
   "metadata": {},
   "source": [
    "Los resultados que has mostrado representan los datos obtenidos de la consulta SQL realizada a la tabla \"p2hwm3\" en la base de datos \"p2\". Cada fila corresponde a un registro en la tabla y contiene los valores de las columnas especificadas en la consulta.\n",
    "\n",
    "Aquí está la traducción de los resultados:\n",
    "\n",
    "- Categoría: Bicicletas\n",
    "  - Valor Total de Ventas: 94,651,172.70\n",
    "  - Productos Vendidos: 90,268\n",
    "  - Porcentaje del Valor Total: 86.17%\n",
    "  - Porcentaje de Productos Vendidos: 32.83%\n",
    "\n",
    "- Categoría: Componentes\n",
    "  - Valor Total de Ventas: 11,802,593.29\n",
    "  - Productos Vendidos: 49,044\n",
    "  - Porcentaje del Valor Total: 10.74%\n",
    "  - Porcentaje de Productos Vendidos: 17.84%\n",
    "\n",
    "- Categoría: Ropa\n",
    "  - Valor Total de Ventas: 2,120,542.52\n",
    "  - Productos Vendidos: 73,670\n",
    "  - Porcentaje del Valor Total: 1.93%\n",
    "  - Porcentaje de Productos Vendidos: 26.8%\n",
    "\n",
    "- Categoría: Accesorios\n",
    "  - Valor Total de Ventas: 1,272,072.88\n",
    "  - Productos Vendidos: 61,932\n",
    "  - Porcentaje del Valor Total: 1.16%\n",
    "  - Porcentaje de Productos Vendidos: 22.53%\n",
    "\n",
    "Estos resultados proporcionan información sobre las ventas y la distribución de productos en diferentes categorías de la tienda, mostrando los valores totales de ventas, la cantidad de productos vendidos y los porcentajes respectivos. Si necesitas más análisis o tienes alguna pregunta adicional sobre estos resultados, no dudes en preguntar. Estoy aquí para ayudarte."
   ]
  },
  {
   "cell_type": "markdown",
   "metadata": {},
   "source": [
    "subir la info a https://github.com/OAVallejos/sqlpractica"
   ]
  },
  {
   "cell_type": "markdown",
   "metadata": {},
   "source": []
  }
 ],
 "metadata": {
  "kernelspec": {
   "display_name": "Python 3",
   "language": "python",
   "name": "python3"
  },
  "language_info": {
   "codemirror_mode": {
    "name": "ipython",
    "version": 3
   },
   "file_extension": ".py",
   "mimetype": "text/x-python",
   "name": "python",
   "nbconvert_exporter": "python",
   "pygments_lexer": "ipython3",
   "version": "3.11.8"
  }
 },
 "nbformat": 4,
 "nbformat_minor": 2
}
